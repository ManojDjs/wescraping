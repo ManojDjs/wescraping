{
 "cells": [
  {
   "cell_type": "code",
   "execution_count": 3,
   "metadata": {},
   "outputs": [
    {
     "name": "stdout",
     "output_type": "stream",
     "text": [
      "connected\n"
     ]
    }
   ],
   "source": [
    "from pymongo import MongoClient\n",
    "import time\n",
    "from selenium import webdriver\n",
    "import pymongo\n",
    "from selenium.webdriver.common.keys import Keys\n",
    "from pymongo import MongoClient, DESCENDING\n",
    "options = webdriver.ChromeOptions()\n",
    "client= MongoClient(\"mongodb://localhost:27017/\")\n",
    "if(client):\n",
    "   print(\"connected\")\n",
    "db = client.Title\n",
    "col=db.jobcatcol\n",
    "preferences = {'profile.default_content_setting_values': {'images': 2\n",
    "                  }}\n",
    "options.add_experimental_option('prefs', preferences)\n",
    "options.add_argument(\"start-maximized\")\n",
    "options.add_argument(\"disable-infobars\")\n",
    "options.add_argument(\"--disable-extensions\")\n",
    "driver = webdriver.Chrome(options=options, executable_path=r'D:\\Office_Files\\chromedriver.exe')\n",
    "urlsarray=[]\n",
    "page=2\n",
    "while True:\n",
    "         url = 'https://www.glassdoor.co.in/Job/customer-service-manager-jobs-SRCH_KO0,24_IP'+str(page)+'.htm'\n",
    "         driver.get(url)\n",
    "         page=page+1\n",
    "         try:\n",
    "             driver.find_element_by_xpath('//div[@class=\"ModalStyle__xBtn___34qya\"]').click()\n",
    "         except:pass\n",
    "         time.sleep(1)\n",
    "         try:\n",
    "             doc=driver.find_elements_by_xpath('//div[@class=\"jobContainer\"]')\n",
    "             for i in doc:\n",
    "                 title=i.text\n",
    "                 spl=title.split('\\n')\n",
    "                 t=spl[1]\n",
    "                 print(t)\n",
    "                 jobcategory='customer-service-manager-jobs'\n",
    "                 col.insert_one({'title':t,'jobcategory':jobcategory})\n",
    "         except:break\n",
    "\n"
   ]
  },
  {
   "cell_type": "code",
   "execution_count": 4,
   "metadata": {},
   "outputs": [
    {
     "ename": "NameError",
     "evalue": "name 'sns' is not defined",
     "output_type": "error",
     "traceback": [
      "\u001b[1;31m---------------------------------------------------------------------------\u001b[0m",
      "\u001b[1;31mNameError\u001b[0m                                 Traceback (most recent call last)",
      "\u001b[1;32m<ipython-input-4-b88bf2f1ec98>\u001b[0m in \u001b[0;36m<module>\u001b[1;34m\u001b[0m\n\u001b[1;32m----> 1\u001b[1;33m \u001b[0msns\u001b[0m\u001b[1;33m.\u001b[0m\u001b[0mdistplot\u001b[0m\u001b[1;33m(\u001b[0m\u001b[0mno\u001b[0m\u001b[1;33m,\u001b[0m\u001b[0mcolor\u001b[0m\u001b[1;33m=\u001b[0m\u001b[1;34m'black'\u001b[0m\u001b[1;33m)\u001b[0m\u001b[1;33m\u001b[0m\u001b[1;33m\u001b[0m\u001b[0m\n\u001b[0m",
      "\u001b[1;31mNameError\u001b[0m: name 'sns' is not defined"
     ]
    }
   ],
   "source": []
  },
  {
   "cell_type": "code",
   "execution_count": null,
   "metadata": {},
   "outputs": [],
   "source": []
  },
  {
   "cell_type": "code",
   "execution_count": null,
   "metadata": {},
   "outputs": [],
   "source": []
  }
 ],
 "metadata": {
  "kernelspec": {
   "display_name": "Python 3",
   "language": "python",
   "name": "python3"
  },
  "language_info": {
   "codemirror_mode": {
    "name": "ipython",
    "version": 3
   },
   "file_extension": ".py",
   "mimetype": "text/x-python",
   "name": "python",
   "nbconvert_exporter": "python",
   "pygments_lexer": "ipython3",
   "version": "3.7.1"
  }
 },
 "nbformat": 4,
 "nbformat_minor": 2
}
